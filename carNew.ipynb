{
 "cells": [
  {
   "cell_type": "code",
   "execution_count": 64,
   "id": "f12a2df9-01cb-41a9-9330-09e0b024b8b1",
   "metadata": {},
   "outputs": [],
   "source": [
    "import pandas as pd\n",
    "import numpy as np\n",
    "import time\n",
    "from math import log\n",
    "from sklearn.preprocessing import StandardScaler\n",
    "from imutils import paths\n",
    "import cv2\n",
    "import matplotlib.pyplot as plt\n",
    "from xml.dom import minidom\n",
    "import tensorflow as tf\n",
    "from tensorflow.keras.models import Sequential\n",
    "import tensorflow.keras.layers as tfl\n",
    "from tensorflow.keras.losses import CategoricalCrossentropy , mae,mse\n",
    "from tensorflow.keras.optimizers import Adam\n",
    "from tensorflow.keras import backend as K\n",
    "from tensorflow.keras.callbacks import ModelCheckpoint\n",
    "from tensorflow.keras.applications import InceptionResNetV2\n",
    "from tensorflow.keras.preprocessing import image_dataset_from_directory as load_dataset\n",
    "import os\n",
    "import matplotlib.patches as patches\n",
    "from sklearn.model_selection import train_test_split\n",
    "import matplotlib.pyplot as plt\n",
    "from tensorflow.keras.models import load_model"
   ]
  },
  {
   "cell_type": "code",
   "execution_count": 2,
   "id": "241d6245-c952-4ad2-9929-680c7d437f9e",
   "metadata": {},
   "outputs": [],
   "source": [
    "directory=\"./car_plate_fa/validation\"\n",
    "i=500\n",
    "resized_width=400\n",
    "resized_height=400\n",
    "depth=3\n",
    "n_y_features=4\n",
    "BATCH_SIZE = 64\n",
    "IMG_SIZE = (resized_height, resized_width)\n",
    "split_size=0.1 "
   ]
  },
  {
   "cell_type": "code",
   "execution_count": 44,
   "id": "52f105fb-0c53-4adc-bea5-b8242d28ebdb",
   "metadata": {},
   "outputs": [],
   "source": [
    "%run common.ipynb"
   ]
  },
  {
   "cell_type": "code",
   "execution_count": 35,
   "id": "bd1ed421-f915-491a-a913-f6c32d36bded",
   "metadata": {
    "jupyter": {
     "source_hidden": true
    }
   },
   "outputs": [
    {
     "name": "stdout",
     "output_type": "stream",
     "text": [
      " 499"
     ]
    },
    {
     "data": {
      "text/plain": [
       "<Figure size 3000x3000 with 0 Axes>"
      ]
     },
     "metadata": {},
     "output_type": "display_data"
    }
   ],
   "source": [
    "# persian plates\n",
    "y=np.zeros((i,4))\n",
    "file_paths=[]\n",
    "fig = plt.figure(figsize=(30, 30))\n",
    "for carNumber, carPath in enumerate(getPersianPlates(end=i)):\n",
    "    file_paths.append(carPath)\n",
    "    print(\"\\r\",carNumber,end=\"\")\n",
    "    img=cv2.imread(carPath)\n",
    "    original_width=img.shape[1]\n",
    "    original_height=img.shape[0]\n",
    "    w_ratio,h_ratio=compute_ratio(original_width,original_height,resized_width,resized_height)\n",
    "    xmlPath=faImgPath +\"_labels\" +\"/\" + carPath.split(os.path.sep)[-1].split(\".\")[0] +\".xml\"\n",
    "    xmlFile=minidom.parse(xmlPath)\n",
    "    xmin=int (float(xmlFile.getElementsByTagName(\"xmin\")[0].firstChild.data))\n",
    "    ymin=int (float(xmlFile.getElementsByTagName(\"ymin\")[0].firstChild.data)) \n",
    "    xmax=int (float(xmlFile.getElementsByTagName(\"xmax\")[0].firstChild.data)) \n",
    "    ymax=int (float(xmlFile.getElementsByTagName(\"ymax\")[0].firstChild.data))\n",
    "    \n",
    "\n",
    "    xmin=int( xmin * w_ratio )\n",
    "    ymin=int( ymin * h_ratio )\n",
    "    xmax=int( xmax * w_ratio )\n",
    "    ymax=int( ymax * h_ratio )\n",
    "\n",
    "    y[carNumber][0]=xmin\n",
    "    y[carNumber][1]=ymin\n",
    "    y[carNumber][2]=xmax\n",
    "    y[carNumber][3]=ymax\n",
    "   \n",
    "y=y.astype(np.int32)\n"
   ]
  },
  {
   "cell_type": "code",
   "execution_count": 82,
   "id": "871a9f87-85ec-49d0-bca7-ac9c4ec6c6fd",
   "metadata": {
    "jupyter": {
     "source_hidden": true
    }
   },
   "outputs": [],
   "source": [
    "# get dataset and split\n",
    "train_size=int(len(y)*(1-split_size))\n",
    "dataset = tf.data.Dataset.from_tensor_slices((file_paths, y))\n",
    "\n",
    "def load_and_preprocess_image(file_path, label):\n",
    "    image = tf.io.read_file(file_path)\n",
    "    image = tf.image.decode_jpeg(image, channels=3)\n",
    "    image = tf.image.resize(image,[ resized_height,resized_width])\n",
    "    return image, label\n",
    "\n",
    "dataset = dataset.map(load_and_preprocess_image)\n",
    "train_dataset=dataset.take(train_size).batch(BATCH_SIZE).prefetch(buffer_size=tf.data.AUTOTUNE)\n",
    "val_dataset=dataset.skip(train_size).batch(BATCH_SIZE).prefetch(buffer_size=tf.data.AUTOTUNE)\n",
    "# dataset=dataset.batch(BATCH_SIZE).prefetch(buffer_size=tf.data.AUTOTUNE)\n",
    "# get_size=tf.data.experimental.cardinality\n",
    "# get_size(train_dataset),get_size(val_dataset)"
   ]
  },
  {
   "cell_type": "code",
   "execution_count": 84,
   "id": "f299c1a0-c019-446a-8ef5-723d7c4e0fa5",
   "metadata": {
    "jupyter": {
     "source_hidden": true
    }
   },
   "outputs": [],
   "source": [
    "def preprocess_image(file_path):\n",
    "    image = cv2.imread(file_path, cv2.IMREAD_COLOR)\n",
    "    image = cv2.cvtColor(image, cv2.COLOR_BGR2RGB)\n",
    "    image = cv2.resize(image, (resized_width, resized_height))\n",
    "    return image\n",
    "def data_generator():\n",
    "    for file_path, label in zip(file_paths, y):\n",
    "        image = preprocess_image(file_path)\n",
    "        yield image, label\n",
    "\n",
    "\n",
    "\n",
    "dataset = tf.data.Dataset.from_generator(\n",
    "    generator=data_generator,\n",
    "    output_types=(tf.float32, tf.int32),  \n",
    "    output_shapes=(\n",
    "        tf.TensorShape([resized_height, resized_width, 3]),\n",
    "        tf.TensorShape([4])  \n",
    "    )\n",
    ")\n",
    "\n",
    "train_dataset = dataset.take(train_size).batch(BATCH_SIZE).prefetch(buffer_size=tf.data.AUTOTUNE)\n",
    "val_dataset = dataset.skip(train_size).batch(BATCH_SIZE).prefetch(buffer_size=tf.data.AUTOTUNE)\n"
   ]
  },
  {
   "cell_type": "code",
   "execution_count": 45,
   "id": "ba9971a8-58db-44b8-9baa-d598f24a841c",
   "metadata": {},
   "outputs": [
    {
     "data": {
      "text/plain": [
       "(<PrefetchDataset element_spec=(TensorSpec(shape=(None, 400, 400, 3), dtype=tf.float32, name=None), TensorSpec(shape=(None, 4), dtype=tf.int32, name=None))>,\n",
       " <PrefetchDataset element_spec=(TensorSpec(shape=(None, 400, 400, 3), dtype=tf.float32, name=None), TensorSpec(shape=(None, 4), dtype=tf.int32, name=None))>)"
      ]
     },
     "execution_count": 45,
     "metadata": {},
     "output_type": "execute_result"
    }
   ],
   "source": [
    "train_dataset,val_dataset =get_splitted_dataset(end=i,BATCH_SIZE=BATCH_SIZE,split_size=0.1)\n",
    "train_dataset,val_dataset"
   ]
  },
  {
   "cell_type": "code",
   "execution_count": 55,
   "id": "cfd7e573-c576-4aaa-b64e-753051034a0d",
   "metadata": {},
   "outputs": [],
   "source": [
    "# test dataset\n",
    "\n",
    "for images,labels in train_dataset.take(1):\n",
    "    j=30\n",
    "    img=images[j].numpy()\n",
    "    img=cv2.rectangle(img,(labels[j][0].numpy().astype(np.int32),\n",
    "                           labels[j][1].numpy().astype(np.int32)),\n",
    "                      (labels[j][2].numpy().astype(np.int32),\n",
    "                       labels[j][3].numpy().astype(np.int32)),\n",
    "                      (255,0,0))\n",
    "    \n",
    "    img=cv2.cvtColor(img,cv2.COLOR_RGB2BGR)\n",
    "    cv2.imshow(\"original\",img.astype(np.uint8))\n",
    "    cv2.waitKey()\n",
    "    cv2.destroyAllWindows()\n"
   ]
  },
  {
   "cell_type": "code",
   "execution_count": 51,
   "id": "21a3838a-a054-482d-9c69-5ae1140d6aed",
   "metadata": {},
   "outputs": [],
   "source": [
    "model=plate_boundary_model(resized_height,resized_width)"
   ]
  },
  {
   "cell_type": "code",
   "execution_count": 56,
   "id": "6f1a1fc1-951b-4f41-8109-228e9c163775",
   "metadata": {
    "collapsed": true,
    "jupyter": {
     "outputs_hidden": true
    }
   },
   "outputs": [
    {
     "name": "stdout",
     "output_type": "stream",
     "text": [
      "Model: \"model_1\"\n",
      "_________________________________________________________________\n",
      " Layer (type)                Output Shape              Param #   \n",
      "=================================================================\n",
      " input_6 (InputLayer)        [(None, 400, 400, 3)]     0         \n",
      "                                                                 \n",
      " tf.math.truediv (TFOpLambda  (None, 400, 400, 3)      0         \n",
      " )                                                               \n",
      "                                                                 \n",
      " tf.math.subtract (TFOpLambd  (None, 400, 400, 3)      0         \n",
      " a)                                                              \n",
      "                                                                 \n",
      " inception_resnet_v2 (Functi  (None, 11, 11, 1536)     54336736  \n",
      " onal)                                                           \n",
      "                                                                 \n",
      " flatten_3 (Flatten)         (None, 185856)            0         \n",
      "                                                                 \n",
      " dense_12 (Dense)            (None, 256)               47579392  \n",
      "                                                                 \n",
      " dense_13 (Dense)            (None, 128)               32896     \n",
      "                                                                 \n",
      " dense_14 (Dense)            (None, 64)                8256      \n",
      "                                                                 \n",
      " dense_15 (Dense)            (None, 4)                 260       \n",
      "                                                                 \n",
      "=================================================================\n",
      "Total params: 101,957,540\n",
      "Trainable params: 47,620,804\n",
      "Non-trainable params: 54,336,736\n",
      "_________________________________________________________________\n"
     ]
    }
   ],
   "source": [
    "model.summary()"
   ]
  },
  {
   "cell_type": "code",
   "execution_count": 60,
   "id": "87b11cfa-1e7a-4b6c-9a9c-0729e58cb2f1",
   "metadata": {},
   "outputs": [],
   "source": [
    "base_learning_rate = 0.001\n",
    "model.compile(optimizer=tf.keras.optimizers.Adam(learning_rate=base_learning_rate),\n",
    "              loss=mse,\n",
    "              metrics=['accuracy'])"
   ]
  },
  {
   "cell_type": "code",
   "execution_count": 58,
   "id": "42765c4d-859f-4ec8-ba92-da1c15c976ed",
   "metadata": {},
   "outputs": [],
   "source": [
    "save_path=\"./car_plate_weights/result.hdf5\"\n",
    "checkpoint = ModelCheckpoint(save_path, monitor=\"loss\",\n",
    "\tsave_best_only=True, verbose=1)\n",
    "\n",
    "callbacks = [checkpoint]"
   ]
  },
  {
   "cell_type": "code",
   "execution_count": 61,
   "id": "89d76d63-8c8d-404c-bfb9-84de21d9935a",
   "metadata": {
    "scrolled": true
   },
   "outputs": [
    {
     "name": "stdout",
     "output_type": "stream",
     "text": [
      "Epoch 1/70\n",
      "      8/Unknown - 21s 1s/step - loss: 1548.7256 - accuracy: 0.9311\n",
      "Epoch 1: loss improved from 1689.52966 to 1548.72559, saving model to ./car_plate_weights\\result.hdf5\n",
      "8/8 [==============================] - 29s 3s/step - loss: 1548.7256 - accuracy: 0.9311\n",
      "Epoch 2/70\n",
      "8/8 [==============================] - ETA: 0s - loss: 1392.6407 - accuracy: 0.9178\n",
      "Epoch 2: loss improved from 1548.72559 to 1392.64075, saving model to ./car_plate_weights\\result.hdf5\n",
      "8/8 [==============================] - 19s 2s/step - loss: 1392.6407 - accuracy: 0.9178\n",
      "Epoch 3/70\n",
      "8/8 [==============================] - ETA: 0s - loss: 1130.5930 - accuracy: 0.9467\n",
      "Epoch 3: loss improved from 1392.64075 to 1130.59302, saving model to ./car_plate_weights\\result.hdf5\n",
      "8/8 [==============================] - 19s 2s/step - loss: 1130.5930 - accuracy: 0.9467\n",
      "Epoch 4/70\n",
      "8/8 [==============================] - ETA: 0s - loss: 1041.0067 - accuracy: 0.9400\n",
      "Epoch 4: loss improved from 1130.59302 to 1041.00671, saving model to ./car_plate_weights\\result.hdf5\n",
      "8/8 [==============================] - 17s 2s/step - loss: 1041.0067 - accuracy: 0.9400\n",
      "Epoch 5/70\n",
      "8/8 [==============================] - ETA: 0s - loss: 946.4623 - accuracy: 0.9511\n",
      "Epoch 5: loss improved from 1041.00671 to 946.46228, saving model to ./car_plate_weights\\result.hdf5\n",
      "8/8 [==============================] - 19s 2s/step - loss: 946.4623 - accuracy: 0.9511\n",
      "Epoch 6/70\n",
      "8/8 [==============================] - ETA: 0s - loss: 871.3154 - accuracy: 0.9511\n",
      "Epoch 6: loss improved from 946.46228 to 871.31537, saving model to ./car_plate_weights\\result.hdf5\n",
      "8/8 [==============================] - 29s 4s/step - loss: 871.3154 - accuracy: 0.9511\n",
      "Epoch 7/70\n",
      "8/8 [==============================] - ETA: 0s - loss: 808.7725 - accuracy: 0.9489\n",
      "Epoch 7: loss improved from 871.31537 to 808.77246, saving model to ./car_plate_weights\\result.hdf5\n",
      "8/8 [==============================] - 47s 6s/step - loss: 808.7725 - accuracy: 0.9489\n",
      "Epoch 8/70\n",
      "8/8 [==============================] - ETA: 0s - loss: 747.1100 - accuracy: 0.9533\n",
      "Epoch 8: loss improved from 808.77246 to 747.10999, saving model to ./car_plate_weights\\result.hdf5\n",
      "8/8 [==============================] - 45s 6s/step - loss: 747.1100 - accuracy: 0.9533\n",
      "Epoch 9/70\n",
      "8/8 [==============================] - ETA: 0s - loss: 693.9864 - accuracy: 0.9578\n",
      "Epoch 9: loss improved from 747.10999 to 693.98639, saving model to ./car_plate_weights\\result.hdf5\n",
      "8/8 [==============================] - 42s 5s/step - loss: 693.9864 - accuracy: 0.9578\n",
      "Epoch 10/70\n",
      "8/8 [==============================] - ETA: 0s - loss: 645.1740 - accuracy: 0.9511\n",
      "Epoch 10: loss improved from 693.98639 to 645.17401, saving model to ./car_plate_weights\\result.hdf5\n",
      "8/8 [==============================] - 42s 5s/step - loss: 645.1740 - accuracy: 0.9511\n",
      "Epoch 11/70\n",
      "8/8 [==============================] - ETA: 0s - loss: 599.0837 - accuracy: 0.9533\n",
      "Epoch 11: loss improved from 645.17401 to 599.08368, saving model to ./car_plate_weights\\result.hdf5\n",
      "8/8 [==============================] - 42s 5s/step - loss: 599.0837 - accuracy: 0.9533\n",
      "Epoch 12/70\n",
      "8/8 [==============================] - ETA: 0s - loss: 557.4676 - accuracy: 0.9511\n",
      "Epoch 12: loss improved from 599.08368 to 557.46759, saving model to ./car_plate_weights\\result.hdf5\n",
      "8/8 [==============================] - 42s 5s/step - loss: 557.4676 - accuracy: 0.9511\n",
      "Epoch 13/70\n",
      "8/8 [==============================] - ETA: 0s - loss: 517.7811 - accuracy: 0.9444\n",
      "Epoch 13: loss improved from 557.46759 to 517.78113, saving model to ./car_plate_weights\\result.hdf5\n",
      "8/8 [==============================] - 42s 5s/step - loss: 517.7811 - accuracy: 0.9444\n",
      "Epoch 14/70\n",
      "8/8 [==============================] - ETA: 0s - loss: 480.1513 - accuracy: 0.9578\n",
      "Epoch 14: loss improved from 517.78113 to 480.15128, saving model to ./car_plate_weights\\result.hdf5\n",
      "8/8 [==============================] - 42s 5s/step - loss: 480.1513 - accuracy: 0.9578\n",
      "Epoch 15/70\n",
      "8/8 [==============================] - ETA: 0s - loss: 444.6366 - accuracy: 0.9511\n",
      "Epoch 15: loss improved from 480.15128 to 444.63660, saving model to ./car_plate_weights\\result.hdf5\n",
      "8/8 [==============================] - 42s 5s/step - loss: 444.6366 - accuracy: 0.9511\n",
      "Epoch 16/70\n",
      "8/8 [==============================] - ETA: 0s - loss: 411.3971 - accuracy: 0.9533\n",
      "Epoch 16: loss improved from 444.63660 to 411.39709, saving model to ./car_plate_weights\\result.hdf5\n",
      "8/8 [==============================] - 42s 5s/step - loss: 411.3971 - accuracy: 0.9533\n",
      "Epoch 17/70\n",
      "8/8 [==============================] - ETA: 0s - loss: 380.1475 - accuracy: 0.9578\n",
      "Epoch 17: loss improved from 411.39709 to 380.14752, saving model to ./car_plate_weights\\result.hdf5\n",
      "8/8 [==============================] - 42s 5s/step - loss: 380.1475 - accuracy: 0.9578\n",
      "Epoch 18/70\n",
      "8/8 [==============================] - ETA: 0s - loss: 351.2329 - accuracy: 0.9556\n",
      "Epoch 18: loss improved from 380.14752 to 351.23288, saving model to ./car_plate_weights\\result.hdf5\n",
      "8/8 [==============================] - 42s 5s/step - loss: 351.2329 - accuracy: 0.9556\n",
      "Epoch 19/70\n",
      "8/8 [==============================] - ETA: 0s - loss: 323.0096 - accuracy: 0.9711\n",
      "Epoch 19: loss improved from 351.23288 to 323.00961, saving model to ./car_plate_weights\\result.hdf5\n",
      "8/8 [==============================] - 42s 5s/step - loss: 323.0096 - accuracy: 0.9711\n",
      "Epoch 20/70\n",
      "8/8 [==============================] - ETA: 0s - loss: 298.9736 - accuracy: 0.9667\n",
      "Epoch 20: loss improved from 323.00961 to 298.97357, saving model to ./car_plate_weights\\result.hdf5\n",
      "8/8 [==============================] - 42s 5s/step - loss: 298.9736 - accuracy: 0.9667\n",
      "Epoch 21/70\n",
      "8/8 [==============================] - ETA: 0s - loss: 276.9134 - accuracy: 0.9600\n",
      "Epoch 21: loss improved from 298.97357 to 276.91336, saving model to ./car_plate_weights\\result.hdf5\n",
      "8/8 [==============================] - 42s 5s/step - loss: 276.9134 - accuracy: 0.9600\n",
      "Epoch 22/70\n",
      "8/8 [==============================] - ETA: 0s - loss: 259.9185 - accuracy: 0.9622\n",
      "Epoch 22: loss improved from 276.91336 to 259.91846, saving model to ./car_plate_weights\\result.hdf5\n",
      "8/8 [==============================] - 42s 5s/step - loss: 259.9185 - accuracy: 0.9622\n",
      "Epoch 23/70\n",
      "8/8 [==============================] - ETA: 0s - loss: 243.1217 - accuracy: 0.9733\n",
      "Epoch 23: loss improved from 259.91846 to 243.12175, saving model to ./car_plate_weights\\result.hdf5\n",
      "8/8 [==============================] - 42s 5s/step - loss: 243.1217 - accuracy: 0.9733\n",
      "Epoch 24/70\n",
      "8/8 [==============================] - ETA: 0s - loss: 250.9279 - accuracy: 0.9644\n",
      "Epoch 24: loss did not improve from 243.12175\n",
      "8/8 [==============================] - 33s 4s/step - loss: 250.9279 - accuracy: 0.9644\n",
      "Epoch 25/70\n",
      "8/8 [==============================] - ETA: 0s - loss: 300.5332 - accuracy: 0.9622\n",
      "Epoch 25: loss did not improve from 243.12175\n",
      "8/8 [==============================] - 33s 4s/step - loss: 300.5332 - accuracy: 0.9622\n",
      "Epoch 26/70\n",
      "8/8 [==============================] - ETA: 0s - loss: 341.3460 - accuracy: 0.9089\n",
      "Epoch 26: loss did not improve from 243.12175\n",
      "8/8 [==============================] - 33s 4s/step - loss: 341.3460 - accuracy: 0.9089\n",
      "Epoch 27/70\n",
      "8/8 [==============================] - ETA: 0s - loss: 604.5887 - accuracy: 0.9356\n",
      "Epoch 27: loss did not improve from 243.12175\n",
      "8/8 [==============================] - 33s 4s/step - loss: 604.5887 - accuracy: 0.9356\n",
      "Epoch 28/70\n",
      "8/8 [==============================] - ETA: 0s - loss: 627.3379 - accuracy: 0.9356\n",
      "Epoch 28: loss did not improve from 243.12175\n",
      "8/8 [==============================] - 33s 4s/step - loss: 627.3379 - accuracy: 0.9356\n",
      "Epoch 29/70\n",
      "8/8 [==============================] - ETA: 0s - loss: 690.5934 - accuracy: 0.9578\n",
      "Epoch 29: loss did not improve from 243.12175\n",
      "8/8 [==============================] - 33s 4s/step - loss: 690.5934 - accuracy: 0.9578\n",
      "Epoch 30/70\n",
      "8/8 [==============================] - ETA: 0s - loss: 416.0942 - accuracy: 0.9156\n",
      "Epoch 30: loss did not improve from 243.12175\n",
      "8/8 [==============================] - 33s 4s/step - loss: 416.0942 - accuracy: 0.9156\n",
      "Epoch 31/70\n",
      "8/8 [==============================] - ETA: 0s - loss: 233.3954 - accuracy: 0.9578\n",
      "Epoch 31: loss improved from 243.12175 to 233.39545, saving model to ./car_plate_weights\\result.hdf5\n",
      "8/8 [==============================] - 42s 5s/step - loss: 233.3954 - accuracy: 0.9578\n",
      "Epoch 32/70\n",
      "8/8 [==============================] - ETA: 0s - loss: 193.9001 - accuracy: 0.9578\n",
      "Epoch 32: loss improved from 233.39545 to 193.90015, saving model to ./car_plate_weights\\result.hdf5\n",
      "8/8 [==============================] - 42s 5s/step - loss: 193.9001 - accuracy: 0.9578\n",
      "Epoch 33/70\n",
      "8/8 [==============================] - ETA: 0s - loss: 170.0223 - accuracy: 0.9711\n",
      "Epoch 33: loss improved from 193.90015 to 170.02226, saving model to ./car_plate_weights\\result.hdf5\n",
      "8/8 [==============================] - 42s 5s/step - loss: 170.0223 - accuracy: 0.9711\n",
      "Epoch 34/70\n",
      "8/8 [==============================] - ETA: 0s - loss: 146.8235 - accuracy: 0.9689\n",
      "Epoch 34: loss improved from 170.02226 to 146.82355, saving model to ./car_plate_weights\\result.hdf5\n",
      "8/8 [==============================] - 41s 5s/step - loss: 146.8235 - accuracy: 0.9689\n",
      "Epoch 35/70\n",
      "8/8 [==============================] - ETA: 0s - loss: 129.6061 - accuracy: 0.9689\n",
      "Epoch 35: loss improved from 146.82355 to 129.60606, saving model to ./car_plate_weights\\result.hdf5\n",
      "8/8 [==============================] - 42s 5s/step - loss: 129.6061 - accuracy: 0.9689\n",
      "Epoch 36/70\n",
      "8/8 [==============================] - ETA: 0s - loss: 116.0821 - accuracy: 0.9711\n",
      "Epoch 36: loss improved from 129.60606 to 116.08210, saving model to ./car_plate_weights\\result.hdf5\n",
      "8/8 [==============================] - 42s 5s/step - loss: 116.0821 - accuracy: 0.9711\n",
      "Epoch 37/70\n",
      "8/8 [==============================] - ETA: 0s - loss: 107.5227 - accuracy: 0.9711\n",
      "Epoch 37: loss improved from 116.08210 to 107.52272, saving model to ./car_plate_weights\\result.hdf5\n",
      "8/8 [==============================] - 34s 4s/step - loss: 107.5227 - accuracy: 0.9711\n",
      "Epoch 38/70\n",
      "8/8 [==============================] - ETA: 0s - loss: 102.3456 - accuracy: 0.9778\n",
      "Epoch 38: loss improved from 107.52272 to 102.34563, saving model to ./car_plate_weights\\result.hdf5\n",
      "8/8 [==============================] - 46s 6s/step - loss: 102.3456 - accuracy: 0.9778\n",
      "Epoch 39/70\n",
      "8/8 [==============================] - ETA: 0s - loss: 96.7504 - accuracy: 0.9711\n",
      "Epoch 39: loss improved from 102.34563 to 96.75040, saving model to ./car_plate_weights\\result.hdf5\n",
      "8/8 [==============================] - 48s 6s/step - loss: 96.7504 - accuracy: 0.9711\n",
      "Epoch 40/70\n",
      "8/8 [==============================] - ETA: 0s - loss: 91.8948 - accuracy: 0.9733\n",
      "Epoch 40: loss improved from 96.75040 to 91.89478, saving model to ./car_plate_weights\\result.hdf5\n",
      "8/8 [==============================] - 49s 6s/step - loss: 91.8948 - accuracy: 0.9733\n",
      "Epoch 41/70\n",
      "8/8 [==============================] - ETA: 0s - loss: 87.6214 - accuracy: 0.9756\n",
      "Epoch 41: loss improved from 91.89478 to 87.62136, saving model to ./car_plate_weights\\result.hdf5\n",
      "8/8 [==============================] - 48s 6s/step - loss: 87.6214 - accuracy: 0.9756\n",
      "Epoch 42/70\n",
      "8/8 [==============================] - ETA: 0s - loss: 83.6923 - accuracy: 0.9756\n",
      "Epoch 42: loss improved from 87.62136 to 83.69231, saving model to ./car_plate_weights\\result.hdf5\n",
      "8/8 [==============================] - 44s 5s/step - loss: 83.6923 - accuracy: 0.9756\n",
      "Epoch 43/70\n",
      "8/8 [==============================] - ETA: 0s - loss: 79.6795 - accuracy: 0.9733\n",
      "Epoch 43: loss improved from 83.69231 to 79.67953, saving model to ./car_plate_weights\\result.hdf5\n",
      "8/8 [==============================] - 42s 5s/step - loss: 79.6795 - accuracy: 0.9733\n",
      "Epoch 44/70\n",
      "8/8 [==============================] - ETA: 0s - loss: 75.9237 - accuracy: 0.9733\n",
      "Epoch 44: loss improved from 79.67953 to 75.92368, saving model to ./car_plate_weights\\result.hdf5\n",
      "8/8 [==============================] - 42s 5s/step - loss: 75.9237 - accuracy: 0.9733\n",
      "Epoch 45/70\n",
      "8/8 [==============================] - ETA: 0s - loss: 72.7148 - accuracy: 0.9778\n",
      "Epoch 45: loss improved from 75.92368 to 72.71480, saving model to ./car_plate_weights\\result.hdf5\n",
      "8/8 [==============================] - 41s 5s/step - loss: 72.7148 - accuracy: 0.9778\n",
      "Epoch 46/70\n",
      "8/8 [==============================] - ETA: 0s - loss: 69.3852 - accuracy: 0.9756\n",
      "Epoch 46: loss improved from 72.71480 to 69.38520, saving model to ./car_plate_weights\\result.hdf5\n",
      "8/8 [==============================] - 42s 5s/step - loss: 69.3852 - accuracy: 0.9756\n",
      "Epoch 47/70\n",
      "8/8 [==============================] - ETA: 0s - loss: 66.0575 - accuracy: 0.9733\n",
      "Epoch 47: loss improved from 69.38520 to 66.05750, saving model to ./car_plate_weights\\result.hdf5\n",
      "8/8 [==============================] - 48s 6s/step - loss: 66.0575 - accuracy: 0.9733\n",
      "Epoch 48/70\n",
      "8/8 [==============================] - ETA: 0s - loss: 63.3488 - accuracy: 0.9756\n",
      "Epoch 48: loss improved from 66.05750 to 63.34883, saving model to ./car_plate_weights\\result.hdf5\n",
      "8/8 [==============================] - 42s 5s/step - loss: 63.3488 - accuracy: 0.9756\n",
      "Epoch 49/70\n",
      "8/8 [==============================] - ETA: 0s - loss: 60.6216 - accuracy: 0.9778\n",
      "Epoch 49: loss improved from 63.34883 to 60.62162, saving model to ./car_plate_weights\\result.hdf5\n",
      "8/8 [==============================] - 48s 6s/step - loss: 60.6216 - accuracy: 0.9778\n",
      "Epoch 50/70\n",
      "8/8 [==============================] - ETA: 0s - loss: 57.8681 - accuracy: 0.9756\n",
      "Epoch 50: loss improved from 60.62162 to 57.86809, saving model to ./car_plate_weights\\result.hdf5\n",
      "8/8 [==============================] - 49s 6s/step - loss: 57.8681 - accuracy: 0.9756\n",
      "Epoch 51/70\n",
      "8/8 [==============================] - ETA: 0s - loss: 55.4242 - accuracy: 0.9733\n",
      "Epoch 51: loss improved from 57.86809 to 55.42419, saving model to ./car_plate_weights\\result.hdf5\n",
      "8/8 [==============================] - 48s 6s/step - loss: 55.4242 - accuracy: 0.9733\n",
      "Epoch 52/70\n",
      "8/8 [==============================] - ETA: 0s - loss: 53.1717 - accuracy: 0.9778\n",
      "Epoch 52: loss improved from 55.42419 to 53.17169, saving model to ./car_plate_weights\\result.hdf5\n",
      "8/8 [==============================] - 49s 6s/step - loss: 53.1717 - accuracy: 0.9778\n",
      "Epoch 53/70\n",
      "8/8 [==============================] - ETA: 0s - loss: 51.2393 - accuracy: 0.9778\n",
      "Epoch 53: loss improved from 53.17169 to 51.23932, saving model to ./car_plate_weights\\result.hdf5\n",
      "8/8 [==============================] - 42s 5s/step - loss: 51.2393 - accuracy: 0.9778\n",
      "Epoch 54/70\n",
      "8/8 [==============================] - ETA: 0s - loss: 48.8396 - accuracy: 0.9756\n",
      "Epoch 54: loss improved from 51.23932 to 48.83957, saving model to ./car_plate_weights\\result.hdf5\n",
      "8/8 [==============================] - 42s 5s/step - loss: 48.8396 - accuracy: 0.9756\n",
      "Epoch 55/70\n",
      "8/8 [==============================] - ETA: 0s - loss: 47.1596 - accuracy: 0.9756\n",
      "Epoch 55: loss improved from 48.83957 to 47.15956, saving model to ./car_plate_weights\\result.hdf5\n",
      "8/8 [==============================] - 42s 5s/step - loss: 47.1596 - accuracy: 0.9756\n",
      "Epoch 56/70\n",
      "8/8 [==============================] - ETA: 0s - loss: 45.1034 - accuracy: 0.9778\n",
      "Epoch 56: loss improved from 47.15956 to 45.10345, saving model to ./car_plate_weights\\result.hdf5\n",
      "8/8 [==============================] - 42s 5s/step - loss: 45.1034 - accuracy: 0.9778\n",
      "Epoch 57/70\n",
      "8/8 [==============================] - ETA: 0s - loss: 44.4360 - accuracy: 0.9756\n",
      "Epoch 57: loss improved from 45.10345 to 44.43599, saving model to ./car_plate_weights\\result.hdf5\n",
      "8/8 [==============================] - 42s 5s/step - loss: 44.4360 - accuracy: 0.9756\n",
      "Epoch 58/70\n",
      "8/8 [==============================] - ETA: 0s - loss: 42.0931 - accuracy: 0.9756\n",
      "Epoch 58: loss improved from 44.43599 to 42.09306, saving model to ./car_plate_weights\\result.hdf5\n",
      "8/8 [==============================] - 42s 5s/step - loss: 42.0931 - accuracy: 0.9756\n",
      "Epoch 59/70\n",
      "8/8 [==============================] - ETA: 0s - loss: 42.2973 - accuracy: 0.9800\n",
      "Epoch 59: loss did not improve from 42.09306\n",
      "8/8 [==============================] - 34s 4s/step - loss: 42.2973 - accuracy: 0.9800\n",
      "Epoch 60/70\n",
      "8/8 [==============================] - ETA: 0s - loss: 39.7187 - accuracy: 0.9800\n",
      "Epoch 60: loss improved from 42.09306 to 39.71869, saving model to ./car_plate_weights\\result.hdf5\n",
      "8/8 [==============================] - 42s 5s/step - loss: 39.7187 - accuracy: 0.9800\n",
      "Epoch 61/70\n",
      "8/8 [==============================] - ETA: 0s - loss: 43.1494 - accuracy: 0.9756\n",
      "Epoch 61: loss did not improve from 39.71869\n",
      "8/8 [==============================] - 34s 4s/step - loss: 43.1494 - accuracy: 0.9756\n",
      "Epoch 62/70\n",
      "8/8 [==============================] - ETA: 0s - loss: 42.0408 - accuracy: 0.9756\n",
      "Epoch 62: loss did not improve from 39.71869\n",
      "8/8 [==============================] - 34s 4s/step - loss: 42.0408 - accuracy: 0.9756\n",
      "Epoch 63/70\n",
      "8/8 [==============================] - ETA: 0s - loss: 49.3174 - accuracy: 0.9800\n",
      "Epoch 63: loss did not improve from 39.71869\n",
      "8/8 [==============================] - 34s 4s/step - loss: 49.3174 - accuracy: 0.9800\n",
      "Epoch 64/70\n",
      "8/8 [==============================] - ETA: 0s - loss: 55.5333 - accuracy: 0.9733\n",
      "Epoch 64: loss did not improve from 39.71869\n",
      "8/8 [==============================] - 37s 4s/step - loss: 55.5333 - accuracy: 0.9733\n",
      "Epoch 65/70\n",
      "8/8 [==============================] - ETA: 0s - loss: 68.6694 - accuracy: 0.9778\n",
      "Epoch 65: loss did not improve from 39.71869\n",
      "8/8 [==============================] - 37s 4s/step - loss: 68.6694 - accuracy: 0.9778\n",
      "Epoch 66/70\n",
      "8/8 [==============================] - ETA: 0s - loss: 106.8737 - accuracy: 0.9600\n",
      "Epoch 66: loss did not improve from 39.71869\n",
      "8/8 [==============================] - 37s 4s/step - loss: 106.8737 - accuracy: 0.9600\n",
      "Epoch 67/70\n",
      "8/8 [==============================] - ETA: 0s - loss: 148.1258 - accuracy: 0.9600\n",
      "Epoch 67: loss did not improve from 39.71869\n",
      "8/8 [==============================] - 38s 5s/step - loss: 148.1258 - accuracy: 0.9600\n",
      "Epoch 68/70\n",
      "8/8 [==============================] - ETA: 0s - loss: 227.1451 - accuracy: 0.9578\n",
      "Epoch 68: loss did not improve from 39.71869\n",
      "8/8 [==============================] - 40s 5s/step - loss: 227.1451 - accuracy: 0.9578\n",
      "Epoch 69/70\n",
      "8/8 [==============================] - ETA: 0s - loss: 357.3303 - accuracy: 0.9400\n",
      "Epoch 69: loss did not improve from 39.71869\n",
      "8/8 [==============================] - 40s 5s/step - loss: 357.3303 - accuracy: 0.9400\n",
      "Epoch 70/70\n",
      "8/8 [==============================] - ETA: 0s - loss: 396.1868 - accuracy: 0.9178\n",
      "Epoch 70: loss did not improve from 39.71869\n",
      "8/8 [==============================] - 11s 1s/step - loss: 396.1868 - accuracy: 0.9178\n"
     ]
    }
   ],
   "source": [
    "\n",
    "initial_epochs = 70\n",
    "\n",
    "history = model.fit(train_dataset,\n",
    "                    # validation_data=val_dataset,\n",
    "                    epochs=initial_epochs,\n",
    "                    callbacks=callbacks\n",
    "                    )"
   ]
  },
  {
   "cell_type": "code",
   "execution_count": 65,
   "id": "2a9eb98a-1615-4cb8-9cd6-c194ae18fb81",
   "metadata": {},
   "outputs": [],
   "source": [
    "loaded_model=load_model(save_path)"
   ]
  },
  {
   "cell_type": "code",
   "execution_count": 92,
   "id": "47940ff2-6384-42c7-b752-8a163defe386",
   "metadata": {
    "collapsed": true,
    "jupyter": {
     "outputs_hidden": true
    },
    "scrolled": true
   },
   "outputs": [
    {
     "name": "stdout",
     "output_type": "stream",
     "text": [
      "8/8 [==============================] - 13s 1s/step - loss: 327.8635 - accuracy: 0.9444\n"
     ]
    },
    {
     "data": {
      "text/plain": [
       "[327.8634948730469, 0.9444444179534912]"
      ]
     },
     "execution_count": 92,
     "metadata": {},
     "output_type": "execute_result"
    }
   ],
   "source": [
    "loaded_model.evaluate(train_dataset)"
   ]
  },
  {
   "cell_type": "code",
   "execution_count": 69,
   "id": "5e300b55-49c9-4af1-be50-744ace28d8e8",
   "metadata": {},
   "outputs": [
    {
     "name": "stdout",
     "output_type": "stream",
     "text": [
      "2/2 [==============================] - 1s 600ms/step\n",
      "2/2 [==============================] - 1s 518ms/step\n",
      "2/2 [==============================] - 1s 525ms/step\n"
     ]
    }
   ],
   "source": [
    "# test dataset\n",
    "for images,labels in train_dataset.take(3):\n",
    "    j=15\n",
    "    img=images[j].numpy()\n",
    "    preds=loaded_model.predict(images).astype(np.int32)\n",
    "    labels=labels.numpy().astype(np.int32)\n",
    "    img=cv2.rectangle(img,preds[j][0:2],preds[j][2:],(255,127,0))\n",
    "    img=cv2.rectangle(img,labels[j][0:2],labels[j][2:],(0,255,0))\n",
    "    img=cv2.cvtColor(img,cv2.COLOR_RGB2BGR).astype(np.uint8)\n",
    "    cv2.imshow(\"win\",img)\n",
    "    cv2.waitKey()\n",
    "    cv2.destroyAllWindows()"
   ]
  }
 ],
 "metadata": {
  "kernelspec": {
   "display_name": "Python 3 (ipykernel)",
   "language": "python",
   "name": "python3"
  },
  "language_info": {
   "codemirror_mode": {
    "name": "ipython",
    "version": 3
   },
   "file_extension": ".py",
   "mimetype": "text/x-python",
   "name": "python",
   "nbconvert_exporter": "python",
   "pygments_lexer": "ipython3",
   "version": "3.9.17"
  }
 },
 "nbformat": 4,
 "nbformat_minor": 5
}
